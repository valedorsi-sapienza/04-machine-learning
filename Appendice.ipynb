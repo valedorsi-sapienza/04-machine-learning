{
  "nbformat": 4,
  "nbformat_minor": 0,
  "metadata": {
    "colab": {
      "provenance": [],
      "collapsed_sections": [
        "Mdskrd8hqobc",
        "xtf08NO6Wms6",
        "GE_AKwcEWjkv",
        "p-UXXe3UWfWj"
      ]
    },
    "kernelspec": {
      "name": "python3",
      "display_name": "Python 3"
    },
    "language_info": {
      "name": "python"
    }
  },
  "cells": [
    {
      "cell_type": "markdown",
      "source": [
        "# C"
      ],
      "metadata": {
        "id": "GNBMFbEQEepN"
      }
    },
    {
      "cell_type": "code",
      "execution_count": 2,
      "metadata": {
        "id": "zZJJlzfOBUWH"
      },
      "outputs": [],
      "source": [
        "import math\n",
        "import torch\n",
        "import numpy as np\n",
        "import random\n",
        "from torch.utils.data import TensorDataset\n",
        "import torch.nn.functional as F\n",
        "from torch.utils.data import Dataset\n",
        "from torch.utils.data import DataLoader\n",
        "torch.manual_seed(42)\n",
        "np.random.seed(42)\n",
        "random.seed(42)\n",
        "import torchvision\n",
        "from torchvision import datasets, transforms\n",
        "from tqdm import tqdm\n",
        "from torch import nn\n",
        "from torch import optim"
      ]
    },
    {
      "cell_type": "code",
      "source": [
        "from google.colab import drive\n",
        "drive.mount('/content/drive')\n"
      ],
      "metadata": {
        "colab": {
          "base_uri": "https://localhost:8080/"
        },
        "id": "5zzWfh5WsMlw",
        "outputId": "25714683-c597-4d74-cdce-6db6f776034e"
      },
      "execution_count": null,
      "outputs": [
        {
          "output_type": "stream",
          "name": "stdout",
          "text": [
            "Mounted at /content/drive\n"
          ]
        }
      ]
    },
    {
      "cell_type": "markdown",
      "source": [
        "# Appendice"
      ],
      "metadata": {
        "id": "Mdskrd8hqobc"
      }
    },
    {
      "cell_type": "code",
      "source": [
        "#APPENDICE\n",
        "def align_matrices_svd(A: torch.Tensor, B: torch.Tensor):\n",
        "    U_A, _, _ = torch.linalg.svd(A, full_matrices=False)\n",
        "    U_B, _, _ = torch.linalg.svd(B, full_matrices=False)\n",
        "\n",
        "    R = U_A @ U_B.T\n",
        "\n",
        "    return  R\n",
        "\n",
        "def align_matrices_svd_topk(A: torch.Tensor, B: torch.Tensor, k: int):\n",
        "    U_A, _, _ = torch.linalg.svd(A, full_matrices=False)\n",
        "    U_B, _, _ = torch.linalg.svd(B, full_matrices=False)\n",
        "\n",
        "    U_A_k = U_A[:, :k]\n",
        "    U_B_k = U_B[:, :k]\n",
        "\n",
        "    M = U_A_k @ U_B_k.T\n",
        "    U, _, Vh = torch.linalg.svd(M)\n",
        "    R = U @ Vh\n",
        "\n",
        "    return R\n",
        "\n",
        "\n",
        "\n",
        "def autovettori_svd(model_a, model_b, layer_names):\n",
        "    rotated_model = MLPModel_mnist()\n",
        "\n",
        "    R_prev = None\n",
        "    for i, layer in enumerate(layer_names):\n",
        "        W_a = getattr(model_a, layer).weight.data\n",
        "        W_b = getattr(model_b, layer).weight.data\n",
        "        b_b = getattr(model_b, layer).bias.data\n",
        "\n",
        "        if i == 0:\n",
        "            R = align_matrices_svd(W_a, W_b)\n",
        "            W_new = R @ W_b\n",
        "            b_new = b_b\n",
        "            R_prev = R\n",
        "        else:\n",
        "            R = align_matrices_svd(W_a, W_b @ R_prev.T)\n",
        "            W_new = R @ W_b @ R_prev.T\n",
        "            b_new =  b_b\n",
        "            R_prev = R\n",
        "        layer_obj = getattr(rotated_model, layer)\n",
        "        with torch.no_grad():\n",
        "            layer_obj.weight.copy_(W_new)\n",
        "            layer_obj.bias.copy_(b_new)\n",
        "\n",
        "    final_layer_name = 'fc4'\n",
        "    final_layer_model_b = getattr(model_b, final_layer_name)\n",
        "    W_final = final_layer_model_b.weight.data.clone()\n",
        "    b_final = final_layer_model_b.bias.data.clone()\n",
        "\n",
        "    final_layer_rotated = getattr(rotated_model, final_layer_name)\n",
        "    with torch.no_grad():\n",
        "        final_layer_rotated.weight.data.copy_(W_final @ R_prev.T)\n",
        "        final_layer_rotated.bias.data.copy_(b_final)\n",
        "\n",
        "\n",
        "    return rotated_model\n",
        "\n",
        "\n",
        "#non funziona\n",
        "\n",
        "autovettori_model=autovettori_svd(model_a, model_b, layer_names)\n",
        "_,_=comparison_interpolation_method(model_a,model_b,autovettori_model,lambdas,valid_loader3,loss_fn,'autovettori')\n",
        "interpolate_models_slerp(model_a, model_b, autovettori_model, lambdas,valid_loader3)"
      ],
      "metadata": {
        "id": "OSP_ngKkEd78"
      },
      "execution_count": null,
      "outputs": []
    },
    {
      "cell_type": "code",
      "source": [
        "\n",
        "def compute_covariance(Z):\n",
        "    # Z: neurons x examples\n",
        "    Z_centered = Z - torch.mean(Z, axis=1, keepdims=True)\n",
        "    C = (Z_centered @ Z_centered.T) / (Z.shape[1] - 1)\n",
        "    return C\n",
        "\n",
        "def procrustes_align(U_A, U_B):\n",
        "    M = U_A @ U_B.T\n",
        "    U, _, Vt = np.linalg.svd(M)\n",
        "    Q = U @ Vt\n",
        "    return Q\n",
        "\n",
        "def spectral_covariance(model_a, model_b, layer_names,dataloader):\n",
        "    rotated_model=MLPModel_mnist()\n",
        "    R_prev=None\n",
        "    dizA =get_multiple_fc_activations(model_a, layer_names, dataloader, max_batches=5)  # shape: (n, d)\n",
        "    dizB = get_multiple_fc_activations(model_b, layer_names,dataloader, max_batches=5)\n",
        "    for n,layer in enumerate(layer_names):\n",
        "        Z_A = dizA[layer]  #512,640\n",
        "        Z_B = dizB[layer]\n",
        "        C_A = compute_covariance(Z_A)\n",
        "        C_B = compute_covariance(Z_B)\n",
        "        R=procrustes_align( C_A,C_B)\n",
        "        layer_obj = getattr(model_b, layer)\n",
        "        W = layer_obj.weight.data.clone()\n",
        "        b = layer_obj.bias.data.clone()\n",
        "        if n>0:\n",
        "          W_new =  R @ W @ R_prev.T\n",
        "        else:\n",
        "          W_new = R @ W\n",
        "\n",
        "        b_new = R@ b  #R@b\n",
        "        R_prev = R\n",
        "\n",
        "        layer_rotated = getattr(rotated_model, layer)\n",
        "        with torch.no_grad():\n",
        "            layer_rotated.weight.data.copy_(W_new)\n",
        "            layer_rotated.bias.data.copy_(b_new)\n",
        "\n",
        "    final_layer_name = 'fc4'\n",
        "    final_layer_model_b = getattr(model_b, final_layer_name)\n",
        "    W_final = final_layer_model_b.weight.data.clone()\n",
        "    b_final = final_layer_model_b.bias.data.clone()\n",
        "\n",
        "    final_layer_rotated = getattr(rotated_model, final_layer_name)\n",
        "    with torch.no_grad():\n",
        "        final_layer_rotated.weight.data.copy_(W_final @ R_prev.T)\n",
        "        final_layer_rotated.bias.data.copy_(b_final)\n",
        "\n",
        "\n",
        "    return rotated_model\n",
        "p=spectral_covariance(model_a, model_b, layer_names,valid_loader3)\n",
        "_,_=comparison_interpolation_method(model_a,model_b,p,lambdas,valid_loader4,loss_fn,'sd')\n",
        "interpolate_models_slerp(model_a, model_b, p, lambdas,valid_loader4)"
      ],
      "metadata": {
        "id": "TBw3o74U6-Dp"
      },
      "execution_count": null,
      "outputs": []
    },
    {
      "cell_type": "code",
      "source": [
        "def find_R(W_a,W_b):\n",
        "  M = W_a @ W_b.T\n",
        "  S=(M+M.T)/2\n",
        "  eigenvalues, eigenvectors = torch.linalg.eigh(S)\n",
        "  return eigenvectors\n",
        "\n",
        "\n",
        "def spectral_decomposition(model_a, model_b, layer_names):\n",
        "    rotated_weight_b = MLPModel_mnist()\n",
        "    R_prev = None\n",
        "    for n, layer in enumerate(layer_names):\n",
        "        W_a = getattr(model_a, layer).weight.data\n",
        "        W_b = getattr(model_b, layer).weight.data\n",
        "        b_b = getattr(model_b, layer).bias.data\n",
        "        if n == 0:\n",
        "            R= find_R(W_a, W_b)\n",
        "            W_new = R @ W_b\n",
        "            b_new = R @ b_b\n",
        "        else:\n",
        "            R= find_R(W_a, W_b @R_prev.T)\n",
        "            W_new = R @ W_b @ R_prev.T\n",
        "            b_new = R @ b_b\n",
        "\n",
        "        R_prev = R\n",
        "\n",
        "        layer_obj = getattr(rotated_weight_b, layer)\n",
        "        with torch.no_grad():\n",
        "            layer_obj.weight.copy_(W_new)\n",
        "            layer_obj.bias.copy_(b_new)\n",
        "    final_layer_name = 'fc4'\n",
        "    W_final = getattr(model_b, final_layer_name).weight.data.clone()\n",
        "    b_final = getattr(model_b, final_layer_name).bias.data.clone()\n",
        "\n",
        "    with torch.no_grad():\n",
        "        getattr(rotated_weight_b, final_layer_name).weight.copy_( W_final @ R_prev.T)\n",
        "        getattr(rotated_weight_b, final_layer_name).bias.copy_(b_final)\n",
        "\n",
        "    return rotated_weight_b\n",
        "\n"
      ],
      "metadata": {
        "id": "LSN80ilG7LDl"
      },
      "execution_count": null,
      "outputs": []
    },
    {
      "cell_type": "code",
      "source": [
        "import torch.nn.functional as F\n",
        "def find_reflection_R(Z_A, Z_B, epochs=25, lr=1e-2):\n",
        "    dim = Z_A.size(0)\n",
        "    u = torch.randn(dim, requires_grad=True)\n",
        "    with torch.no_grad():\n",
        "       u /= u.norm()\n",
        "    optimizer = torch.optim.Adam([u], lr=lr)\n",
        "\n",
        "    for _ in range(epochs):\n",
        "        optimizer.zero_grad()\n",
        "        u_norm = u / u.norm()\n",
        "        R = torch.eye(dim, device=u.device) - 2 * torch.ger(u_norm, u_norm)\n",
        "        ZB_reflected = R @ Z_B\n",
        "        loss = F.mse_loss(ZB_reflected, Z_A)\n",
        "        loss.backward()\n",
        "        optimizer.step()\n",
        "        with torch.no_grad():\n",
        "            u.copy_(u / u.norm())\n",
        "    return R\n",
        "\n",
        "def reflection_matrix(Z_a, Z_b):\n",
        "    M = 0.5 * (Z_b @ Z_a.T + Z_a @ Z_b.T)\n",
        "    eigvals, eigvecs = torch.linalg.eigh(M)\n",
        "    v = eigvecs[:, torch.argmin(eigvals)]\n",
        "    R = torch.eye(Z_a.shape[0]) - 2.0 * torch.outer(v, v)\n",
        "    return R\n",
        "\n",
        "\n",
        "\n",
        "def reflects_activations(model_a, model_b, layer_names, dataloader):\n",
        "    rotated_model = MLPModel_mnist()\n",
        "    #err_pre,err_post,err_relu=[],[],[]\n",
        "    dizA =get_multiple_fc_activations(model_a, layer_names, dataloader, max_batches=5)  # shape: (n, d)\n",
        "    dizB = get_multiple_fc_activations(model_b, layer_names,dataloader, max_batches=5)\n",
        "    for n,layer in enumerate(layer_names):\n",
        "        Z_A = dizA[layer]  #512,640\n",
        "        Z_B = dizB[layer]\n",
        "        R=reflection_matrix(Z_A, Z_B)\n",
        "        layer_obj = getattr(model_b, layer)\n",
        "        W = layer_obj.weight.data.clone()\n",
        "        b = layer_obj.bias.data.clone()\n",
        "        if n>0:\n",
        "          W_new =  R @ W @ R_prev.T\n",
        "        else:\n",
        "          W_new = R @ W\n",
        "\n",
        "        b_new = R@ b  #R@b\n",
        "        R_prev = R\n",
        "\n",
        "        layer_rotated = getattr(rotated_model, layer)\n",
        "        with torch.no_grad():\n",
        "            layer_rotated.weight.data.copy_(W_new)\n",
        "            layer_rotated.bias.data.copy_(b_new)\n",
        "\n",
        "       # pre,post=error_non_commutativity(Z_A,Z_B,R)\n",
        "        #err_pre.append(pre.item())\n",
        "        #err_post.append(post.item())\n",
        "        #relu=post-pre\n",
        "       # err_relu.append(relu.item())\n",
        "    final_layer_name = 'fc4'\n",
        "    final_layer_model_b = getattr(model_b, final_layer_name)\n",
        "    W_final = final_layer_model_b.weight.data.clone()\n",
        "    b_final = final_layer_model_b.bias.data.clone()\n",
        "\n",
        "    final_layer_rotated = getattr(rotated_model, final_layer_name)\n",
        "    with torch.no_grad():\n",
        "        final_layer_rotated.weight.data.copy_(W_final @ R_prev.T)\n",
        "        final_layer_rotated.bias.data.copy_(b_final)\n",
        "\n",
        "\n",
        "    return rotated_model\n",
        "\n",
        "#interpolaziome \"sballata\",APPENDICE"
      ],
      "metadata": {
        "id": "koqMJeGo7Unz"
      },
      "execution_count": null,
      "outputs": []
    },
    {
      "cell_type": "code",
      "source": [
        "#APPENDICE\n",
        "import torch.nn.functional as F\n",
        "import copy\n",
        "\n",
        "\n",
        "def slerp(v0, v1, alpha):\n",
        "    \"\"\"Spherical linear interpolation between two unit vectors v0 and v1\"\"\"\n",
        "    dot = torch.clamp(torch.dot(v0, v1), -1.0, 1.0)\n",
        "    omega = torch.acos(dot)\n",
        "    so = torch.sin(omega)\n",
        "    if so < 1e-6:\n",
        "        return (1.0 - alpha) * v0 + alpha * v1\n",
        "    return (torch.sin((1.0 - alpha) * omega) / so) * v0 + (torch.sin(alpha * omega) / so) * v1\n",
        "\n",
        "def find_reflection_u(Z_A, Z_B, epochs=25, lr=1e-2):\n",
        "    dim = Z_A.size(0)\n",
        "    u = torch.randn(dim, requires_grad=True)\n",
        "    with torch.no_grad():\n",
        "       u /= u.norm()\n",
        "    optimizer = torch.optim.Adam([u], lr=lr)\n",
        "\n",
        "    for _ in range(epochs):\n",
        "        optimizer.zero_grad()\n",
        "        u_norm = u / u.norm()\n",
        "        R = torch.eye(dim, device=u.device) - 2 * torch.ger(u_norm, u_norm)\n",
        "        ZB_reflected = R @ Z_B\n",
        "        loss = F.mse_loss(ZB_reflected, Z_A)\n",
        "        loss.backward()\n",
        "        optimizer.step()\n",
        "        with torch.no_grad():\n",
        "            u.copy_(u / u.norm())\n",
        "    return u / u.norm()\n",
        "\n",
        "from copy import deepcopy\n",
        "\n",
        "\n",
        "def interpolate_models_slerp_u(model_a, model_b, layer_names, dataloader, alphas, loss_fn):\n",
        "    dizA = get_multiple_fc_activations(model_a, layer_names, dataloader, max_batches=5)\n",
        "    dizB = get_multiple_fc_activations(model_b, layer_names, dataloader, max_batches=5)\n",
        "\n",
        "    u_layers = {}\n",
        "    dim = None\n",
        "\n",
        "    # Calcolo dei vettori di riflessione u\n",
        "    for layer in layer_names:\n",
        "        Z_A = dizA[layer]\n",
        "        Z_B = dizB[layer]\n",
        "        u = find_reflection_u(Z_A, Z_B)\n",
        "        u_layers[layer] = u\n",
        "        dim = Z_A.size(0)\n",
        "\n",
        "    # Vettore base per l’identità\n",
        "    u_id = torch.zeros(dim, device=Z_A.device)\n",
        "    u_id[0] = 1.0\n",
        "\n",
        "    losses = []\n",
        "    accuracies = []\n",
        "\n",
        "    for alpha in alphas:\n",
        "        model_interp = deepcopy(model_a)\n",
        "        R_prev = None\n",
        "\n",
        "        with torch.no_grad():\n",
        "            for name in layer_names:\n",
        "                layer_a = getattr(model_a, name)\n",
        "                layer_b = getattr(model_b, name)\n",
        "                layer_i = getattr(model_interp, name)\n",
        "\n",
        "                u = u_layers[name]\n",
        "                u_alpha = slerp(u_id, u, alpha)\n",
        "                u_alpha = u_alpha / u_alpha.norm()\n",
        "\n",
        "                R_alpha = torch.eye(dim, device=u.device) - 2 * torch.ger(u_alpha, u_alpha)\n",
        "\n",
        "                Wa = layer_a.weight.data\n",
        "                Wb = layer_b.weight.data\n",
        "                ba = layer_a.bias.data\n",
        "                bb = layer_b.bias.data\n",
        "\n",
        "                if R_prev is not None:\n",
        "                    Wb_rot = R_alpha @ Wb @ R_prev.T\n",
        "                else:\n",
        "                    Wb_rot = R_alpha @ Wb\n",
        "\n",
        "                bb_rot =  bb\n",
        "\n",
        "                W_interp = (1 - alpha) * Wa + alpha * Wb_rot\n",
        "                b_interp = (1 - alpha) * ba + alpha * bb_rot\n",
        "\n",
        "                layer_i.weight.copy_(W_interp)\n",
        "                layer_i.bias.copy_(b_interp)\n",
        "\n",
        "                R_prev = R_alpha\n",
        "\n",
        "        # Valutazione\n",
        "        model_interp.eval()\n",
        "        loss, acc = evaluate_loss(model_interp, dataloader, loss_fn)\n",
        "        losses.append(loss)\n",
        "        accuracies.append(acc)\n",
        "\n",
        "    return losses, accuracies\n"
      ],
      "metadata": {
        "id": "8ozyQyX87eLx"
      },
      "execution_count": null,
      "outputs": []
    },
    {
      "cell_type": "markdown",
      "source": [
        "# CIFAR"
      ],
      "metadata": {
        "id": "-oY5VnWgqqx4"
      }
    },
    {
      "cell_type": "code",
      "execution_count": 3,
      "metadata": {
        "id": "2JX8HuXwyo1c"
      },
      "outputs": [],
      "source": [
        "class MLPModel_cifar(nn.Module):\n",
        "    def __init__(self):\n",
        "        super().__init__()\n",
        "        self.fc1 = nn.Linear(32*32*3, 512)       # primo fully connected layer\n",
        "        self.fc2 = nn.Linear(512, 512)       # secondo fully connected layer\n",
        "        self.fc3 = nn.Linear(512, 512)       # terzo fully connected layer\n",
        "        self.fc4 = nn.Linear(512, 10)        # output layer 10 classi\n",
        "\n",
        "    def forward(self, xb):\n",
        "        xb = xb.view(xb.size(0), -1)\n",
        "        xb = self.fc1(xb)                # primo layer fully connected\n",
        "        xb = F.relu(xb)                  # ReLU\n",
        "\n",
        "        xb = self.fc2(xb)                # secondo layer fully connected\n",
        "        xb = F.relu(xb)                  # ReLU\n",
        "\n",
        "        xb = self.fc3(xb)                # terzo layer fully connected\n",
        "        xb = F.relu(xb)                  # ReLU\n",
        "\n",
        "        xb = self.fc4(xb)                # layer finale (lineare)\n",
        "        xb = F.log_softmax(xb, dim=-1)   # log-softmax\n",
        "\n",
        "        return xb\n",
        "\n",
        "model=MLPModel_cifar()\n",
        "layer_names = ['fc1', 'fc2', 'fc3']"
      ]
    },
    {
      "cell_type": "markdown",
      "source": [
        "# Dataset Cifar10"
      ],
      "metadata": {
        "id": "xtf08NO6Wms6"
      }
    },
    {
      "cell_type": "code",
      "execution_count": 4,
      "metadata": {
        "colab": {
          "base_uri": "https://localhost:8080/"
        },
        "id": "p8P0KOEywbZl",
        "outputId": "799e85ce-17ec-48c0-c61f-8be6ae98f164"
      },
      "outputs": [
        {
          "output_type": "stream",
          "name": "stderr",
          "text": [
            "100%|██████████| 170M/170M [00:05<00:00, 28.7MB/s]\n"
          ]
        }
      ],
      "source": [
        "import random\n",
        "from torchvision import datasets, transforms\n",
        "from torch.utils.data import random_split, DataLoader\n",
        "\n",
        "g1 = torch.Generator()\n",
        "g1.manual_seed(42)\n",
        "\n",
        "transform_train = transforms.Compose([\n",
        "    transforms.RandomCrop(32, padding=4),\n",
        "    transforms.RandomHorizontalFlip(),\n",
        "    transforms.ToTensor(),\n",
        "])\n",
        "\n",
        "transform_val = transforms.Compose([\n",
        "    transforms.ToTensor(),\n",
        "])\n",
        "\n",
        "dataset = datasets.CIFAR10(root='./data', train=True, download=True, transform=transform_train)\n",
        "\n",
        "train_size = int(0.75 * len(dataset))\n",
        "valid_size = len(dataset) - train_size\n",
        "\n",
        "train_dataset_a, valid_dataset_a = random_split(dataset, [train_size, valid_size], generator=g1)\n",
        "valid_dataset_a.dataset.transform = transform_val\n",
        "\n",
        "\n",
        "train_loader_a = DataLoader(train_dataset_a, batch_size=64, shuffle=True, num_workers=2)\n",
        "valid_loader_a= DataLoader(valid_dataset_a, batch_size=64, shuffle=False, num_workers=2)\n",
        "\n",
        "g2 = torch.Generator()\n",
        "g2.manual_seed(123)\n",
        "\n",
        "train_dataset_b, valid_dataset_b = random_split(dataset, [train_size, valid_size], generator=g2)\n",
        "train_loader_b = DataLoader(train_dataset_b, batch_size=64, shuffle=True, num_workers=2)\n",
        "valid_loader_b= DataLoader(valid_dataset_b, batch_size=64, shuffle=False, num_workers=2)\n",
        "\n",
        "g3 = torch.Generator()\n",
        "g3.manual_seed(333)\n",
        "\n",
        "train_dataset_3, valid_dataset_3 = random_split(dataset, [train_size, valid_size], generator=g3)\n",
        "train_loader_3 = DataLoader(train_dataset_3, batch_size=64, shuffle=True, num_workers=2)\n",
        "valid_loader_3= DataLoader(valid_dataset_3, batch_size=64, shuffle=False, num_workers=2)\n",
        "\n",
        "\n",
        "g4 = torch.Generator()\n",
        "g4.manual_seed(999)\n",
        "\n",
        "train_dataset_4, valid_dataset_4 = random_split(dataset, [train_size, valid_size], generator=g4)\n",
        "train_loader_4 = DataLoader(train_dataset_4, batch_size=64, shuffle=True, num_workers=2)\n",
        "valid_loader_4= DataLoader(valid_dataset_4, batch_size=64, shuffle=False, num_workers=2)\n"
      ]
    },
    {
      "cell_type": "markdown",
      "source": [
        "# Train"
      ],
      "metadata": {
        "id": "GE_AKwcEWjkv"
      }
    },
    {
      "cell_type": "code",
      "execution_count": 18,
      "metadata": {
        "id": "1ER5eo0UXx0U"
      },
      "outputs": [],
      "source": [
        "import matplotlib.pyplot as plt\n",
        "def train(model,train_dl,valid_dl,save_prefix):\n",
        "      loss_func = F.cross_entropy\n",
        "      epochs = 12\n",
        "      lr = 0.001\n",
        "      losses = torch.zeros(epochs)\n",
        "      val_losses = torch.zeros(epochs)\n",
        "      opt = optim.Adam(model.parameters(), lr=lr)\n",
        "\n",
        "      valid_accuracy = torch.zeros(epochs)\n",
        "\n",
        "      for epoch in range(epochs):\n",
        "          model.train()\n",
        "          train_loss = 0\n",
        "          total = 0\n",
        "          for xb, yb in train_dl:\n",
        "              pred = model(xb)\n",
        "              loss = loss_func(pred, yb)\n",
        "              loss.backward()\n",
        "              opt.step()\n",
        "              opt.zero_grad()\n",
        "              train_loss += loss.item() * xb.size(0)\n",
        "              total += xb.size(0)\n",
        "          losses[epoch] = train_loss / total\n",
        "\n",
        "\n",
        "          model.eval()\n",
        "          val_loss = 0\n",
        "          total = 0\n",
        "          correct= 0\n",
        "          with torch.no_grad():\n",
        "              for xv, yv in valid_dl:\n",
        "                  outputs = model(xv)\n",
        "                  val_loss += loss_func(outputs, yv).item() * xv.size(0)\n",
        "                  predicted = outputs.argmax(dim=1)\n",
        "                  correct += (predicted == yv).sum().item()\n",
        "                  total += yv.size(0)\n",
        "              valid_accuracy[epoch] = correct / total\n",
        "              val_losses[epoch] = val_loss / total\n",
        "\n",
        "          if not epoch % 10:\n",
        "              print(epoch, loss.item())\n",
        "\n",
        "      plt.figure(figsize=(6, 3))\n",
        "      plt.plot(valid_accuracy, label='validation', color='red')\n",
        "      plt.xlabel('epochs')\n",
        "      plt.ylabel('accuracy')\n",
        "      plt.xlim(-1, epochs + 1)\n",
        "      plt.ylim(0.1, 1)\n",
        "      plt.legend()\n",
        "      plt.grid(True)\n",
        "      plt.show()\n",
        "      plt.figure(figsize=(6, 3))\n",
        "      plt.plot(losses, color='red', label='train')\n",
        "      plt.plot(val_losses.detach().numpy(), color='black', label='val')\n",
        "      plt.xlabel('epochs')\n",
        "      plt.ylabel('loss')\n",
        "      plt.grid(True)\n",
        "      plt.legend()\n",
        "      plt.show()\n",
        "\n",
        "      print(f\"final validation accuracy: {valid_accuracy[-1]*100:.2f}%\")\n"
      ]
    },
    {
      "cell_type": "code",
      "execution_count": null,
      "metadata": {
        "colab": {
          "base_uri": "https://localhost:8080/",
          "height": 662
        },
        "id": "G7lACdAJxjKL",
        "outputId": "0b17e762-8669-4400-b48b-1b4f5b8dc1c6"
      },
      "outputs": [
        {
          "output_type": "stream",
          "name": "stdout",
          "text": [
            "0 1.8833918571472168\n",
            "10 1.3387627601623535\n"
          ]
        },
        {
          "output_type": "display_data",
          "data": {
            "text/plain": [
              "<Figure size 600x300 with 1 Axes>"
            ],
            "image/png": "[encoded data removed]"
          },
          "metadata": {}
        },
        {
          "output_type": "display_data",
          "data": {
            "text/plain": [
              "<Figure size 600x300 with 1 Axes>"
            ],
            "image/png": "[encoded data removed]"
          },
          "metadata": {}
        },
        {
          "output_type": "stream",
          "name": "stdout",
          "text": [
            "final validation accuracy: 48.61%\n"
          ]
        }
      ],
      "source": [
        "#model_a_cifar = MLPModel_cifar()\n",
        "#train(model_a_cifar,train_loader_a,valid_loader_a,valid_dataset_a)\n"
      ]
    },
    {
      "cell_type": "code",
      "source": [
        "#model_b_cifar = MLPModel_cifar()\n",
        "#train(model_b_cifar,train_loader_b,valid_loader_b,valid_dataset_b)"
      ],
      "metadata": {
        "colab": {
          "base_uri": "https://localhost:8080/",
          "height": 662
        },
        "id": "XskNhALEq-8Z",
        "outputId": "449461a4-f3e2-499c-c80f-3d34256a11cb"
      },
      "execution_count": null,
      "outputs": [
        {
          "output_type": "stream",
          "name": "stdout",
          "text": [
            "0 1.6654115915298462\n",
            "10 1.3965381383895874\n"
          ]
        },
        {
          "output_type": "display_data",
          "data": {
            "text/plain": [
              "<Figure size 600x300 with 1 Axes>"
            ],
            "image/png": "[encoded data removed]"
          },
          "metadata": {}
        },
        {
          "output_type": "display_data",
          "data": {
            "text/plain": [
              "<Figure size 600x300 with 1 Axes>"
            ],
            "image/png": "[encoded data removed]"
          },
          "metadata": {}
        },
        {
          "output_type": "stream",
          "name": "stdout",
          "text": [
            "final validation accuracy: 47.98%\n"
          ]
        }
      ]
    },
    {
      "cell_type": "markdown",
      "source": [
        "# Download and upload"
      ],
      "metadata": {
        "id": "p-UXXe3UWfWj"
      }
    },
    {
      "cell_type": "code",
      "source": [
        "from google.colab import files\n",
        "torch.save(model_a_cifar.state_dict(), \"model_a_cifar_weights.pt\")\n",
        "files.download(\"model_a_cifar_weights.pt\")\n"
      ],
      "metadata": {
        "colab": {
          "base_uri": "https://localhost:8080/",
          "height": 17
        },
        "id": "QZLNjW3YuTJd",
        "outputId": "1be47401-19ac-48d7-87d3-86c82f472a47"
      },
      "execution_count": null,
      "outputs": [
        {
          "output_type": "display_data",
          "data": {
            "text/plain": [
              "<IPython.core.display.Javascript object>"
            ],
            "application/javascript": [
              "\n",
              "    async function download(id, filename, size) {\n",
              "      if (!google.colab.kernel.accessAllowed) {\n",
              "        return;\n",
              "      }\n",
              "      const div = document.createElement('div');\n",
              "      const label = document.createElement('label');\n",
              "      label.textContent = `Downloading \"${filename}\": `;\n",
              "      div.appendChild(label);\n",
              "      const progress = document.createElement('progress');\n",
              "      progress.max = size;\n",
              "      div.appendChild(progress);\n",
              "      document.body.appendChild(div);\n",
              "\n",
              "      const buffers = [];\n",
              "      let downloaded = 0;\n",
              "\n",
              "      const channel = await google.colab.kernel.comms.open(id);\n",
              "      // Send a message to notify the kernel that we're ready.\n",
              "      channel.send({})\n",
              "\n",
              "      for await (const message of channel.messages) {\n",
              "        // Send a message to notify the kernel that we're ready.\n",
              "        channel.send({})\n",
              "        if (message.buffers) {\n",
              "          for (const buffer of message.buffers) {\n",
              "            buffers.push(buffer);\n",
              "            downloaded += buffer.byteLength;\n",
              "            progress.value = downloaded;\n",
              "          }\n",
              "        }\n",
              "      }\n",
              "      const blob = new Blob(buffers, {type: 'application/binary'});\n",
              "      const a = document.createElement('a');\n",
              "      a.href = window.URL.createObjectURL(blob);\n",
              "      a.download = filename;\n",
              "      div.appendChild(a);\n",
              "      a.click();\n",
              "      div.remove();\n",
              "    }\n",
              "  "
            ]
          },
          "metadata": {}
        },
        {
          "output_type": "display_data",
          "data": {
            "text/plain": [
              "<IPython.core.display.Javascript object>"
            ],
            "application/javascript": [
              "download(\"download_25182c66-a79e-400d-b840-72aacf49ab7e\", \"model_a_cifar_weights.pt\", 8418961)"
            ]
          },
          "metadata": {}
        }
      ]
    },
    {
      "cell_type": "code",
      "source": [
        "torch.save(model_b_cifar.state_dict(), \"model_b_cifar_weights.pt\")\n",
        "files.download(\"model_b_cifar_weights.pt\")"
      ],
      "metadata": {
        "colab": {
          "base_uri": "https://localhost:8080/",
          "height": 17
        },
        "id": "SJVgK0hexSyz",
        "outputId": "5a3100d2-a2d9-4d2d-e6a0-7e80acb339cd"
      },
      "execution_count": null,
      "outputs": [
        {
          "output_type": "display_data",
          "data": {
            "text/plain": [
              "<IPython.core.display.Javascript object>"
            ],
            "application/javascript": [
              "\n",
              "    async function download(id, filename, size) {\n",
              "      if (!google.colab.kernel.accessAllowed) {\n",
              "        return;\n",
              "      }\n",
              "      const div = document.createElement('div');\n",
              "      const label = document.createElement('label');\n",
              "      label.textContent = `Downloading \"${filename}\": `;\n",
              "      div.appendChild(label);\n",
              "      const progress = document.createElement('progress');\n",
              "      progress.max = size;\n",
              "      div.appendChild(progress);\n",
              "      document.body.appendChild(div);\n",
              "\n",
              "      const buffers = [];\n",
              "      let downloaded = 0;\n",
              "\n",
              "      const channel = await google.colab.kernel.comms.open(id);\n",
              "      // Send a message to notify the kernel that we're ready.\n",
              "      channel.send({})\n",
              "\n",
              "      for await (const message of channel.messages) {\n",
              "        // Send a message to notify the kernel that we're ready.\n",
              "        channel.send({})\n",
              "        if (message.buffers) {\n",
              "          for (const buffer of message.buffers) {\n",
              "            buffers.push(buffer);\n",
              "            downloaded += buffer.byteLength;\n",
              "            progress.value = downloaded;\n",
              "          }\n",
              "        }\n",
              "      }\n",
              "      const blob = new Blob(buffers, {type: 'application/binary'});\n",
              "      const a = document.createElement('a');\n",
              "      a.href = window.URL.createObjectURL(blob);\n",
              "      a.download = filename;\n",
              "      div.appendChild(a);\n",
              "      a.click();\n",
              "      div.remove();\n",
              "    }\n",
              "  "
            ]
          },
          "metadata": {}
        },
        {
          "output_type": "display_data",
          "data": {
            "text/plain": [
              "<IPython.core.display.Javascript object>"
            ],
            "application/javascript": [
              "download(\"download_6247926c-de1a-4383-bc03-d1092c2be7b9\", \"model_b_cifar_weights.pt\", 8418961)"
            ]
          },
          "metadata": {}
        }
      ]
    },
    {
      "cell_type": "code",
      "source": [
        "from google.colab import files\n",
        "uploaded = files.upload()\n",
        "model_cifar_a=MLPModel_cifar()\n",
        "model_cifar_b=MLPModel_cifar()\n",
        "\n",
        "model_cifar_a.load_state_dict(torch.load(\"model_a_cifar_weights.pt\"))\n",
        "model_cifar_b.load_state_dict(torch.load(\"model_b_cifar_weights.pt\"))"
      ],
      "metadata": {
        "id": "l4EuS2fBrpdC",
        "colab": {
          "base_uri": "https://localhost:8080/",
          "height": 125
        },
        "outputId": "4c8e2a1c-d0d6-4bd7-aad3-47e6c0eb5aea"
      },
      "execution_count": 6,
      "outputs": [
        {
          "output_type": "display_data",
          "data": {
            "text/plain": [
              "<IPython.core.display.HTML object>"
            ],
            "text/html": [
              "\n",
              "     <input type=\"file\" id=\"files-9345a9ad-574f-4fef-9b1d-073e28519c64\" name=\"files[]\" multiple disabled\n",
              "        style=\"border:none\" />\n",
              "     <output id=\"result-9345a9ad-574f-4fef-9b1d-073e28519c64\">\n",
              "      Upload widget is only available when the cell has been executed in the\n",
              "      current browser session. Please rerun this cell to enable.\n",
              "      </output>\n",
              "      <script>// Copyright 2017 Google LLC\n",
              "//\n",
              "// Licensed under the Apache License, Version 2.0 (the \"License\");\n",
              "// you may not use this file except in compliance with the License.\n",
              "// You may obtain a copy of the License at\n",
              "//\n",
              "//      http://www.apache.org/licenses/LICENSE-2.0\n",
              "//\n",
              "// Unless required by applicable law or agreed to in writing, software\n",
              "// distributed under the License is distributed on an \"AS IS\" BASIS,\n",
              "// WITHOUT WARRANTIES OR CONDITIONS OF ANY KIND, either express or implied.\n",
              "// See the License for the specific language governing permissions and\n",
              "// limitations under the License.\n",
              "\n",
              "/**\n",
              " * @fileoverview Helpers for google.colab Python module.\n",
              " */\n",
              "(function(scope) {\n",
              "function span(text, styleAttributes = {}) {\n",
              "  const element = document.createElement('span');\n",
              "  element.textContent = text;\n",
              "  for (const key of Object.keys(styleAttributes)) {\n",
              "    element.style[key] = styleAttributes[key];\n",
              "  }\n",
              "  return element;\n",
              "}\n",
              "\n",
              "// Max number of bytes which will be uploaded at a time.\n",
              "const MAX_PAYLOAD_SIZE = 100 * 1024;\n",
              "\n",
              "function _uploadFiles(inputId, outputId) {\n",
              "  const steps = uploadFilesStep(inputId, outputId);\n",
              "  const outputElement = document.getElementById(outputId);\n",
              "  // Cache steps on the outputElement to make it available for the next call\n",
              "  // to uploadFilesContinue from Python.\n",
              "  outputElement.steps = steps;\n",
              "\n",
              "  return _uploadFilesContinue(outputId);\n",
              "}\n",
              "\n",
              "// This is roughly an async generator (not supported in the browser yet),\n",
              "// where there are multiple asynchronous steps and the Python side is going\n",
              "// to poll for completion of each step.\n",
              "// This uses a Promise to block the python side on completion of each step,\n",
              "// then passes the result of the previous step as the input to the next step.\n",
              "function _uploadFilesContinue(outputId) {\n",
              "  const outputElement = document.getElementById(outputId);\n",
              "  const steps = outputElement.steps;\n",
              "\n",
              "  const next = steps.next(outputElement.lastPromiseValue);\n",
              "  return Promise.resolve(next.value.promise).then((value) => {\n",
              "    // Cache the last promise value to make it available to the next\n",
              "    // step of the generator.\n",
              "    outputElement.lastPromiseValue = value;\n",
              "    return next.value.response;\n",
              "  });\n",
              "}\n",
              "\n",
              "/**\n",
              " * Generator function which is called between each async step of the upload\n",
              " * process.\n",
              " * @param {string} inputId Element ID of the input file picker element.\n",
              " * @param {string} outputId Element ID of the output display.\n",
              " * @return {!Iterable<!Object>} Iterable of next steps.\n",
              " */\n",
              "function* uploadFilesStep(inputId, outputId) {\n",
              "  const inputElement = document.getElementById(inputId);\n",
              "  inputElement.disabled = false;\n",
              "\n",
              "  const outputElement = document.getElementById(outputId);\n",
              "  outputElement.innerHTML = '';\n",
              "\n",
              "  const pickedPromise = new Promise((resolve) => {\n",
              "    inputElement.addEventListener('change', (e) => {\n",
              "      resolve(e.target.files);\n",
              "    });\n",
              "  });\n",
              "\n",
              "  const cancel = document.createElement('button');\n",
              "  inputElement.parentElement.appendChild(cancel);\n",
              "  cancel.textContent = 'Cancel upload';\n",
              "  const cancelPromise = new Promise((resolve) => {\n",
              "    cancel.onclick = () => {\n",
              "      resolve(null);\n",
              "    };\n",
              "  });\n",
              "\n",
              "  // Wait for the user to pick the files.\n",
              "  const files = yield {\n",
              "    promise: Promise.race([pickedPromise, cancelPromise]),\n",
              "    response: {\n",
              "      action: 'starting',\n",
              "    }\n",
              "  };\n",
              "\n",
              "  cancel.remove();\n",
              "\n",
              "  // Disable the input element since further picks are not allowed.\n",
              "  inputElement.disabled = true;\n",
              "\n",
              "  if (!files) {\n",
              "    return {\n",
              "      response: {\n",
              "        action: 'complete',\n",
              "      }\n",
              "    };\n",
              "  }\n",
              "\n",
              "  for (const file of files) {\n",
              "    const li = document.createElement('li');\n",
              "    li.append(span(file.name, {fontWeight: 'bold'}));\n",
              "    li.append(span(\n",
              "        `(${file.type || 'n/a'}) - ${file.size} bytes, ` +\n",
              "        `last modified: ${\n",
              "            file.lastModifiedDate ? file.lastModifiedDate.toLocaleDateString() :\n",
              "                                    'n/a'} - `));\n",
              "    const percent = span('0% done');\n",
              "    li.appendChild(percent);\n",
              "\n",
              "    outputElement.appendChild(li);\n",
              "\n",
              "    const fileDataPromise = new Promise((resolve) => {\n",
              "      const reader = new FileReader();\n",
              "      reader.onload = (e) => {\n",
              "        resolve(e.target.result);\n",
              "      };\n",
              "      reader.readAsArrayBuffer(file);\n",
              "    });\n",
              "    // Wait for the data to be ready.\n",
              "    let fileData = yield {\n",
              "      promise: fileDataPromise,\n",
              "      response: {\n",
              "        action: 'continue',\n",
              "      }\n",
              "    };\n",
              "\n",
              "    // Use a chunked sending to avoid message size limits. See b/62115660.\n",
              "    let position = 0;\n",
              "    do {\n",
              "      const length = Math.min(fileData.byteLength - position, MAX_PAYLOAD_SIZE);\n",
              "      const chunk = new Uint8Array(fileData, position, length);\n",
              "      position += length;\n",
              "\n",
              "      const base64 = btoa(String.fromCharCode.apply(null, chunk));\n",
              "      yield {\n",
              "        response: {\n",
              "          action: 'append',\n",
              "          file: file.name,\n",
              "          data: base64,\n",
              "        },\n",
              "      };\n",
              "\n",
              "      let percentDone = fileData.byteLength === 0 ?\n",
              "          100 :\n",
              "          Math.round((position / fileData.byteLength) * 100);\n",
              "      percent.textContent = `${percentDone}% done`;\n",
              "\n",
              "    } while (position < fileData.byteLength);\n",
              "  }\n",
              "\n",
              "  // All done.\n",
              "  yield {\n",
              "    response: {\n",
              "      action: 'complete',\n",
              "    }\n",
              "  };\n",
              "}\n",
              "\n",
              "scope.google = scope.google || {};\n",
              "scope.google.colab = scope.google.colab || {};\n",
              "scope.google.colab._files = {\n",
              "  _uploadFiles,\n",
              "  _uploadFilesContinue,\n",
              "};\n",
              "})(self);\n",
              "</script> "
            ]
          },
          "metadata": {}
        },
        {
          "output_type": "stream",
          "name": "stdout",
          "text": [
            "Saving model_a_cifar_weights.pt to model_a_cifar_weights (1).pt\n",
            "Saving model_b_cifar_weights.pt to model_b_cifar_weights.pt\n"
          ]
        },
        {
          "output_type": "execute_result",
          "data": {
            "text/plain": [
              "<All keys matched successfully>"
            ]
          },
          "metadata": {},
          "execution_count": 6
        }
      ]
    },
    {
      "cell_type": "code",
      "source": [],
      "metadata": {
        "id": "wECLz1CWr3Ct"
      },
      "execution_count": null,
      "outputs": []
    },
    {
      "cell_type": "markdown",
      "source": [
        "# Useful"
      ],
      "metadata": {
        "id": "O4c98lClU-s0"
      }
    },
    {
      "cell_type": "code",
      "execution_count": 14,
      "metadata": {
        "id": "z6UDFqSJwUV0"
      },
      "outputs": [],
      "source": [
        "def comparison_interpolation_method(model_a,model_b,perm_model,lambdas,valid_dl,loss_fn,stringa):\n",
        "    val_losses_ab ,acc_ab= [],[]\n",
        "    val_losses_ap ,acc_ap= [],[]\n",
        "    for lam in lambdas:\n",
        "        interpolated = interpolate_models(model_a, model_b, lam)\n",
        "        loss,acc = evaluate_loss(interpolated, valid_dl, loss_fn)\n",
        "        acc_ab.append(acc)\n",
        "        val_losses_ab.append(loss)\n",
        "\n",
        "        interpolated_p = interpolate_models(model_a, perm_model, lam)\n",
        "        loss_p,acc_p = evaluate_loss(interpolated_p, valid_dl, loss_fn)\n",
        "        acc_ap.append(acc_p)\n",
        "        val_losses_ap.append(loss_p)\n",
        "\n",
        "    fig, axs = plt.subplots(1, 2, figsize=(14, 6))\n",
        "\n",
        "    axs[0].plot(lambdas, val_losses_ab, marker='o', label=\"Naive A ↔ B\")\n",
        "    axs[0].plot(lambdas, val_losses_ap, marker='s', label=stringa)\n",
        "    axs[0].set_xlabel(\"λ (interpolation factor)\")\n",
        "    axs[0].set_ylabel(\"Validation Loss\")\n",
        "    axs[0].set_title(\"Validation Loss - Interpolation Between Models\")\n",
        "    axs[0].grid(True)\n",
        "    axs[0].legend()\n",
        "\n",
        "    axs[1].plot(lambdas, acc_ab, marker='o', label=\" Naive A ↔ B\")\n",
        "    axs[1].plot(lambdas, acc_ap, marker='s', label=stringa)\n",
        "    axs[1].set_xlabel(\"λ (interpolation factor)\")\n",
        "    axs[1].set_ylabel(\"Accuracy\")\n",
        "    axs[1].set_title(\"Accuracy - Interpolation Between Models\")\n",
        "    axs[1].grid(True)\n",
        "    axs[1].legend()\n",
        "\n",
        "    plt.tight_layout()\n",
        "    plt.show()\n",
        "\n",
        "    return val_losses_ap ,acc_ap"
      ]
    },
    {
      "cell_type": "code",
      "source": [
        "layer_names = ['fc1', 'fc2', 'fc3']\n",
        "lambdas = np.linspace(0, 1, 25)\n",
        "loss_fn = torch.nn.CrossEntropyLoss()"
      ],
      "metadata": {
        "id": "9_7qUj46VxCC"
      },
      "execution_count": 9,
      "outputs": []
    },
    {
      "cell_type": "code",
      "execution_count": 10,
      "metadata": {
        "id": "HSkpGchCakCp"
      },
      "outputs": [],
      "source": [
        "import copy\n",
        "def interpolate_models(model_a, model_b, alpha):\n",
        "    new_model = copy.deepcopy(model_a)\n",
        "    with torch.no_grad():\n",
        "        for (pa, pb, pc) in zip(model_a.parameters(), model_b.parameters(), new_model.parameters()):\n",
        "            pc.data = (1 - alpha) * pa.data + alpha * pb.data\n",
        "    return new_model\n",
        "\n",
        "def evaluate_loss(model, dataloader, loss_fn):\n",
        "    model.eval()\n",
        "    val_loss = 0.0\n",
        "    correct = 0\n",
        "    total = 0\n",
        "    with torch.no_grad():\n",
        "        for xv, yv in dataloader:\n",
        "            outputs = model(xv)\n",
        "            val_loss += loss_fn(outputs, yv).item() * xv.size(0)\n",
        "\n",
        "            predicted = outputs.argmax(dim=1)\n",
        "            correct += (predicted == yv).sum().item()\n",
        "            total += yv.size(0)\n",
        "    avg_loss = val_loss / total\n",
        "    accuracy = correct / total\n",
        "    return avg_loss, accuracy"
      ]
    },
    {
      "cell_type": "code",
      "execution_count": 11,
      "metadata": {
        "id": "b5K2M94p4Cz8"
      },
      "outputs": [],
      "source": [
        "\n",
        "def get_multiple_fc_activations(model, layer_names, dataloader, max_batches=5):\n",
        "    import gc\n",
        "\n",
        "    activations_dict = {name: [] for name in layer_names}\n",
        "\n",
        "    def get_hook(name):\n",
        "        def hook_fn(module, input, output):\n",
        "            activations_dict[name].append(output.detach().cpu())\n",
        "        return hook_fn\n",
        "\n",
        "    handles = []\n",
        "    for name, module in model.named_modules():\n",
        "        if name in layer_names:\n",
        "            handle = module.register_forward_hook(get_hook(name))\n",
        "            handles.append(handle)\n",
        "\n",
        "    model = model.to(\"cpu\")\n",
        "    model.eval()\n",
        "\n",
        "    with torch.no_grad():\n",
        "        for i, (inputs, _) in enumerate(dataloader):\n",
        "            if i >= max_batches:\n",
        "                break\n",
        "            inputs = inputs.to(\"cpu\")\n",
        "            model(inputs)\n",
        "\n",
        "\n",
        "    for handle in handles:\n",
        "        handle.remove()\n",
        "\n",
        "\n",
        "    gc.collect()\n",
        "    torch.cuda.empty_cache()\n",
        "\n",
        "    Z_dict = {}\n",
        "    for name, acts in activations_dict.items():\n",
        "        all_acts = torch.cat(acts, dim=0)\n",
        "        Z = all_acts.T\n",
        "        Z_dict[name] = Z\n",
        "\n",
        "    return Z_dict"
      ]
    },
    {
      "cell_type": "code",
      "execution_count": 12,
      "metadata": {
        "id": "vjbpYKogi3yG"
      },
      "outputs": [],
      "source": [
        "def comparison_naive(model_a,model_b,valid_dl,loss_fn):\n",
        "    val_losses_ab ,acc_ab= [],[]\n",
        "    for lam in lambdas:\n",
        "        interpolated = interpolate_models(model_a, model_b, lam)\n",
        "        loss,acc = evaluate_loss(interpolated, valid_dl, loss_fn)\n",
        "        acc_ab.append(acc)\n",
        "        val_losses_ab.append(loss)\n",
        "    return  val_losses_ab ,acc_ab\n"
      ]
    },
    {
      "cell_type": "markdown",
      "source": [
        "# Permutations"
      ],
      "metadata": {
        "id": "WtWaJv79WI7i"
      }
    },
    {
      "cell_type": "markdown",
      "source": [
        "## Matching activations"
      ],
      "metadata": {
        "id": "Nekl7cA7WKqZ"
      }
    },
    {
      "cell_type": "code",
      "execution_count": 13,
      "metadata": {
        "id": "779_XIcRb07y"
      },
      "outputs": [],
      "source": [
        "from scipy.optimize import linear_sum_assignment\n",
        "\n",
        "def compute_permutation_matrix(Z_A: torch.Tensor, Z_B: torch.Tensor) :\n",
        "    Z_A_np = Z_A.cpu().numpy() #512,640\n",
        "    Z_B_np = Z_B.cpu().numpy()\n",
        "\n",
        "    d = Z_A_np.shape[0]\n",
        "    cost_matrix = np.linalg.norm(Z_A_np[:, None, :] - Z_B_np[None, :, :], axis=2)**2\n",
        "\n",
        "    row_ind, col_ind = linear_sum_assignment(cost_matrix)\n",
        "    P = np.zeros((d, d), dtype=np.float32)\n",
        "    P[row_ind, col_ind] = 1.0\n",
        "\n",
        "    return torch.from_numpy(P)\n",
        "\n",
        "def residual_misalignment_error(Z_A, Z_B, P):\n",
        "    Z_diff = Z_A - P @ Z_B\n",
        "    return (Z_diff**2).sum().item() / Z_A.numel()\n",
        "\n",
        "def permute_activations(model_a, model_b, layer_names, valid_dl):\n",
        "    perm_model = copy.deepcopy(model_b)\n",
        "    diz_res,diz_perm={},{}\n",
        "    dizA = get_multiple_fc_activations(model_a, layer_names, valid_dl)\n",
        "    dizB = get_multiple_fc_activations(model_b, layer_names, valid_dl)\n",
        "\n",
        "    for n,layer in enumerate(layer_names):\n",
        "        Z_A = dizA[layer]\n",
        "        Z_B = dizB[layer]\n",
        "\n",
        "        Player = compute_permutation_matrix(Z_A, Z_B)\n",
        "        diz_res[layer]=residual_misalignment_error(Z_A, Z_B, Player)\n",
        "\n",
        "        diz_perm[layer]=Player\n",
        "\n",
        "        layer_obj = getattr(model_b, layer)\n",
        "        W = layer_obj.weight.data.clone()\n",
        "        b = layer_obj.bias.data.clone()\n",
        "\n",
        "        if n>0:\n",
        "          W_new = Player @ W @ P_prev.T\n",
        "        else:\n",
        "          W_new = Player @ W\n",
        "\n",
        "        b_new = Player @ b\n",
        "        P_prev = Player\n",
        "\n",
        "        layer_perm = getattr(perm_model, layer)\n",
        "        with torch.no_grad():\n",
        "            layer_perm.weight.data.copy_(W_new)\n",
        "            layer_perm.bias.data.copy_(b_new)\n",
        "\n",
        "    final_layer_name = 'fc4'\n",
        "    final_layer_model_b = getattr(model_b, final_layer_name)\n",
        "    W_final = final_layer_model_b.weight.data.clone()\n",
        "    b_final = final_layer_model_b.bias.data.clone()\n",
        "\n",
        "    final_layer_perm = getattr(perm_model, final_layer_name)\n",
        "    with torch.no_grad():\n",
        "        final_layer_perm.weight.data.copy_(W_final @ P_prev.T)\n",
        "        final_layer_perm.bias.data.copy_(b_final)\n",
        "\n",
        "    return perm_model,diz_perm"
      ]
    },
    {
      "cell_type": "code",
      "source": [
        "model_act,diz=permute_activations(model_cifar_a, model_cifar_b, layer_names, valid_loader_3)\n",
        "_,_=comparison_interpolation_method(model_cifar_a,model_act,model_cifar_b,lambdas,valid_loader_3,loss_fn,\"Permuted\")"
      ],
      "metadata": {
        "colab": {
          "base_uri": "https://localhost:8080/",
          "height": 607
        },
        "id": "NzsKlTacWUpd",
        "outputId": "66e63a9b-6ee2-4744-fe0e-c505951fb1f1"
      },
      "execution_count": 19,
      "outputs": [
        {
          "output_type": "display_data",
          "data": {
            "text/plain": [
              "<Figure size 1400x600 with 2 Axes>"
            ],
            "image/png": "[encoded data removed]"
          },
          "metadata": {}
        }
      ]
    }
  ]
}